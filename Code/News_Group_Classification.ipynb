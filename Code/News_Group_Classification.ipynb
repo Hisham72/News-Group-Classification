{
 "cells": [
  {
   "cell_type": "markdown",
   "id": "70a9a034",
   "metadata": {},
   "source": [
    "# Imports:"
   ]
  },
  {
   "cell_type": "code",
   "execution_count": 11,
   "id": "34a267b2",
   "metadata": {},
   "outputs": [
    {
     "name": "stdout",
     "output_type": "stream",
     "text": [
      "Collecting textblob\n",
      "  Using cached textblob-0.17.1-py2.py3-none-any.whl (636 kB)\n",
      "Requirement already satisfied: nltk>=3.1 in c:\\users\\user\\anaconda3\\envs\\nlp_env\\lib\\site-packages (from textblob) (3.5)\n",
      "Requirement already satisfied: click in c:\\users\\user\\anaconda3\\envs\\nlp_env\\lib\\site-packages (from nltk>=3.1->textblob) (8.0.4)\n",
      "Requirement already satisfied: tqdm in c:\\users\\user\\anaconda3\\envs\\nlp_env\\lib\\site-packages (from nltk>=3.1->textblob) (4.64.0)\n",
      "Requirement already satisfied: joblib in c:\\users\\user\\anaconda3\\envs\\nlp_env\\lib\\site-packages (from nltk>=3.1->textblob) (1.1.0)\n",
      "Requirement already satisfied: regex in c:\\users\\user\\anaconda3\\envs\\nlp_env\\lib\\site-packages (from nltk>=3.1->textblob) (2022.4.24)\n",
      "Requirement already satisfied: importlib-metadata in c:\\users\\user\\anaconda3\\envs\\nlp_env\\lib\\site-packages (from click->nltk>=3.1->textblob) (4.8.3)\n",
      "Requirement already satisfied: colorama in c:\\users\\user\\anaconda3\\envs\\nlp_env\\lib\\site-packages (from click->nltk>=3.1->textblob) (0.4.4)\n",
      "Requirement already satisfied: zipp>=0.5 in c:\\users\\user\\anaconda3\\envs\\nlp_env\\lib\\site-packages (from importlib-metadata->click->nltk>=3.1->textblob) (3.6.0)\n",
      "Requirement already satisfied: typing-extensions>=3.6.4 in c:\\users\\user\\anaconda3\\envs\\nlp_env\\lib\\site-packages (from importlib-metadata->click->nltk>=3.1->textblob) (4.1.1)\n",
      "Requirement already satisfied: importlib-resources in c:\\users\\user\\anaconda3\\envs\\nlp_env\\lib\\site-packages (from tqdm->nltk>=3.1->textblob) (5.4.0)\n",
      "Installing collected packages: textblob\n",
      "Successfully installed textblob-0.17.1\n"
     ]
    }
   ],
   "source": [
    "!pip install textblob"
   ]
  },
  {
   "cell_type": "code",
   "execution_count": 9,
   "id": "cb2e269e",
   "metadata": {},
   "outputs": [
    {
     "name": "stdout",
     "output_type": "stream",
     "text": [
      "Requirement already satisfied: nltk==3.5 in c:\\users\\user\\anaconda3\\envs\\nlp_env\\lib\\site-packages (3.5)\n",
      "Requirement already satisfied: click in c:\\users\\user\\anaconda3\\envs\\nlp_env\\lib\\site-packages (from nltk==3.5) (8.0.4)\n",
      "Requirement already satisfied: joblib in c:\\users\\user\\anaconda3\\envs\\nlp_env\\lib\\site-packages (from nltk==3.5) (1.1.0)\n",
      "Requirement already satisfied: regex in c:\\users\\user\\anaconda3\\envs\\nlp_env\\lib\\site-packages (from nltk==3.5) (2022.4.24)\n",
      "Requirement already satisfied: tqdm in c:\\users\\user\\anaconda3\\envs\\nlp_env\\lib\\site-packages (from nltk==3.5) (4.64.0)\n",
      "Requirement already satisfied: colorama in c:\\users\\user\\anaconda3\\envs\\nlp_env\\lib\\site-packages (from click->nltk==3.5) (0.4.4)\n",
      "Requirement already satisfied: importlib-metadata in c:\\users\\user\\anaconda3\\envs\\nlp_env\\lib\\site-packages (from click->nltk==3.5) (4.8.3)\n",
      "Requirement already satisfied: typing-extensions>=3.6.4 in c:\\users\\user\\anaconda3\\envs\\nlp_env\\lib\\site-packages (from importlib-metadata->click->nltk==3.5) (4.1.1)\n",
      "Requirement already satisfied: zipp>=0.5 in c:\\users\\user\\anaconda3\\envs\\nlp_env\\lib\\site-packages (from importlib-metadata->click->nltk==3.5) (3.6.0)\n",
      "Requirement already satisfied: importlib-resources in c:\\users\\user\\anaconda3\\envs\\nlp_env\\lib\\site-packages (from tqdm->nltk==3.5) (5.4.0)\n"
     ]
    }
   ],
   "source": [
    "!pip install nltk==3.5"
   ]
  },
  {
   "cell_type": "code",
   "execution_count": 3,
   "id": "1695e2e0",
   "metadata": {},
   "outputs": [
    {
     "name": "stdout",
     "output_type": "stream",
     "text": [
      "Collecting numpy\n",
      "  Downloading numpy-1.19.5-cp36-cp36m-win_amd64.whl (13.2 MB)\n",
      "Installing collected packages: numpy\n",
      "Successfully installed numpy-1.19.5\n"
     ]
    }
   ],
   "source": [
    "!pip install numpy"
   ]
  },
  {
   "cell_type": "code",
   "execution_count": 4,
   "id": "f953e7e0",
   "metadata": {},
   "outputs": [
    {
     "name": "stdout",
     "output_type": "stream",
     "text": [
      "Collecting pandas\n",
      "  Downloading pandas-1.1.5-cp36-cp36m-win_amd64.whl (8.7 MB)\n",
      "Requirement already satisfied: python-dateutil>=2.7.3 in c:\\users\\user\\anaconda3\\envs\\nlp_env\\lib\\site-packages (from pandas) (2.8.2)\n",
      "Requirement already satisfied: numpy>=1.15.4 in c:\\users\\user\\anaconda3\\envs\\nlp_env\\lib\\site-packages (from pandas) (1.19.5)\n",
      "Collecting pytz>=2017.2\n",
      "  Downloading pytz-2022.1-py2.py3-none-any.whl (503 kB)\n",
      "Requirement already satisfied: six>=1.5 in c:\\users\\user\\anaconda3\\envs\\nlp_env\\lib\\site-packages (from python-dateutil>=2.7.3->pandas) (1.16.0)\n",
      "Installing collected packages: pytz, pandas\n",
      "Successfully installed pandas-1.1.5 pytz-2022.1\n"
     ]
    }
   ],
   "source": [
    "!pip install pandas"
   ]
  },
  {
   "cell_type": "code",
   "execution_count": 6,
   "id": "743dc86e",
   "metadata": {},
   "outputs": [
    {
     "name": "stdout",
     "output_type": "stream",
     "text": [
      "Collecting matplotlib\n",
      "  Downloading matplotlib-3.3.4-cp36-cp36m-win_amd64.whl (8.5 MB)\n",
      "Collecting pillow>=6.2.0\n",
      "  Downloading Pillow-8.4.0-cp36-cp36m-win_amd64.whl (3.2 MB)\n",
      "Requirement already satisfied: pyparsing!=2.0.4,!=2.1.2,!=2.1.6,>=2.0.3 in c:\\users\\user\\anaconda3\\envs\\nlp_env\\lib\\site-packages (from matplotlib) (3.0.9)\n",
      "Collecting cycler>=0.10\n",
      "  Downloading cycler-0.11.0-py3-none-any.whl (6.4 kB)\n",
      "Requirement already satisfied: python-dateutil>=2.1 in c:\\users\\user\\anaconda3\\envs\\nlp_env\\lib\\site-packages (from matplotlib) (2.8.2)\n",
      "Requirement already satisfied: numpy>=1.15 in c:\\users\\user\\anaconda3\\envs\\nlp_env\\lib\\site-packages (from matplotlib) (1.19.5)\n",
      "Collecting kiwisolver>=1.0.1\n",
      "  Downloading kiwisolver-1.3.1-cp36-cp36m-win_amd64.whl (51 kB)\n",
      "Requirement already satisfied: six>=1.5 in c:\\users\\user\\anaconda3\\envs\\nlp_env\\lib\\site-packages (from python-dateutil>=2.1->matplotlib) (1.16.0)\n",
      "Installing collected packages: pillow, kiwisolver, cycler, matplotlib\n",
      "Successfully installed cycler-0.11.0 kiwisolver-1.3.1 matplotlib-3.3.4 pillow-8.4.0\n"
     ]
    }
   ],
   "source": [
    "!pip install matplotlib"
   ]
  },
  {
   "cell_type": "code",
   "execution_count": 8,
   "id": "97b27137",
   "metadata": {},
   "outputs": [
    {
     "name": "stdout",
     "output_type": "stream",
     "text": [
      "Collecting sklearn\n",
      "  Downloading sklearn-0.0.tar.gz (1.1 kB)\n",
      "Collecting scikit-learn\n",
      "  Downloading scikit_learn-0.24.2-cp36-cp36m-win_amd64.whl (6.8 MB)\n",
      "Requirement already satisfied: numpy>=1.13.3 in c:\\users\\user\\anaconda3\\envs\\nlp_env\\lib\\site-packages (from scikit-learn->sklearn) (1.19.5)\n",
      "Collecting threadpoolctl>=2.0.0\n",
      "  Downloading threadpoolctl-3.1.0-py3-none-any.whl (14 kB)\n",
      "Requirement already satisfied: joblib>=0.11 in c:\\users\\user\\anaconda3\\envs\\nlp_env\\lib\\site-packages (from scikit-learn->sklearn) (1.1.0)\n",
      "Collecting scipy>=0.19.1\n",
      "  Downloading scipy-1.5.4-cp36-cp36m-win_amd64.whl (31.2 MB)\n",
      "Building wheels for collected packages: sklearn\n",
      "  Building wheel for sklearn (setup.py): started\n",
      "  Building wheel for sklearn (setup.py): finished with status 'done'\n",
      "  Created wheel for sklearn: filename=sklearn-0.0-py2.py3-none-any.whl size=1310 sha256=192f53b75a5657f1e565516c112e8a474cb0039e8e326cf9cb564ad22c8106fd\n",
      "  Stored in directory: c:\\users\\user\\appdata\\local\\pip\\cache\\wheels\\23\\9d\\42\\5ec745cbbb17517000a53cecc49d6a865450d1f5cb16dc8a9c\n",
      "Successfully built sklearn\n",
      "Installing collected packages: threadpoolctl, scipy, scikit-learn, sklearn\n",
      "Successfully installed scikit-learn-0.24.2 scipy-1.5.4 sklearn-0.0 threadpoolctl-3.1.0\n"
     ]
    }
   ],
   "source": [
    "!pip install sklearn"
   ]
  },
  {
   "cell_type": "code",
   "execution_count": 14,
   "id": "3176913b",
   "metadata": {},
   "outputs": [
    {
     "name": "stdout",
     "output_type": "stream",
     "text": [
      "Collecting seaborn\n",
      "  Downloading seaborn-0.11.2-py3-none-any.whl (292 kB)\n",
      "Requirement already satisfied: pandas>=0.23 in c:\\users\\user\\anaconda3\\envs\\nlp_env\\lib\\site-packages (from seaborn) (1.1.5)\n",
      "Requirement already satisfied: matplotlib>=2.2 in c:\\users\\user\\anaconda3\\envs\\nlp_env\\lib\\site-packages (from seaborn) (3.3.4)\n",
      "Requirement already satisfied: numpy>=1.15 in c:\\users\\user\\anaconda3\\envs\\nlp_env\\lib\\site-packages (from seaborn) (1.19.5)\n",
      "Requirement already satisfied: scipy>=1.0 in c:\\users\\user\\anaconda3\\envs\\nlp_env\\lib\\site-packages (from seaborn) (1.5.4)\n",
      "Requirement already satisfied: pillow>=6.2.0 in c:\\users\\user\\anaconda3\\envs\\nlp_env\\lib\\site-packages (from matplotlib>=2.2->seaborn) (8.4.0)\n",
      "Requirement already satisfied: pyparsing!=2.0.4,!=2.1.2,!=2.1.6,>=2.0.3 in c:\\users\\user\\anaconda3\\envs\\nlp_env\\lib\\site-packages (from matplotlib>=2.2->seaborn) (3.0.9)\n",
      "Requirement already satisfied: cycler>=0.10 in c:\\users\\user\\anaconda3\\envs\\nlp_env\\lib\\site-packages (from matplotlib>=2.2->seaborn) (0.11.0)\n",
      "Requirement already satisfied: python-dateutil>=2.1 in c:\\users\\user\\anaconda3\\envs\\nlp_env\\lib\\site-packages (from matplotlib>=2.2->seaborn) (2.8.2)\n",
      "Requirement already satisfied: kiwisolver>=1.0.1 in c:\\users\\user\\anaconda3\\envs\\nlp_env\\lib\\site-packages (from matplotlib>=2.2->seaborn) (1.3.1)\n",
      "Requirement already satisfied: pytz>=2017.2 in c:\\users\\user\\anaconda3\\envs\\nlp_env\\lib\\site-packages (from pandas>=0.23->seaborn) (2022.1)\n",
      "Requirement already satisfied: six>=1.5 in c:\\users\\user\\anaconda3\\envs\\nlp_env\\lib\\site-packages (from python-dateutil>=2.1->matplotlib>=2.2->seaborn) (1.16.0)\n",
      "Installing collected packages: seaborn\n",
      "Successfully installed seaborn-0.11.2\n"
     ]
    }
   ],
   "source": [
    "!pip install seaborn"
   ]
  },
  {
   "cell_type": "code",
   "execution_count": 1,
   "id": "04fdcf4a",
   "metadata": {},
   "outputs": [],
   "source": [
    "import numpy as np\n",
    "import pandas as pd\n",
    "import matplotlib.pyplot as plt\n",
    "import string\n",
    "from nltk.stem import SnowballStemmer\n",
    "from nltk.corpus import stopwords\n",
    "from string import punctuation\n",
    "from sklearn.feature_extraction.text import TfidfVectorizer\n",
    "from sklearn.model_selection import train_test_split\n",
    "import os\n",
    "from nltk.stem import PorterStemmer\n",
    "from sklearn.feature_extraction.text import CountVectorizer,TfidfVectorizer\n",
    "import sklearn.feature_extraction.text as text\n",
    "from sklearn import model_selection, preprocessing, linear_model, naive_bayes, metrics, svm\n",
    "from textblob import TextBlob\n",
    "from textblob import Word\n",
    "from sklearn.metrics import confusion_matrix\n",
    "import matplotlib.pyplot as plt\n",
    "from sklearn.metrics import plot_confusion_matrix\n",
    "import seaborn as sns\n",
    "import nltk"
   ]
  },
  {
   "cell_type": "code",
   "execution_count": 2,
   "id": "c18ffaaa",
   "metadata": {},
   "outputs": [
    {
     "name": "stderr",
     "output_type": "stream",
     "text": [
      "[nltk_data] Downloading package stopwords to\n",
      "[nltk_data]     C:\\Users\\Hisham\\AppData\\Roaming\\nltk_data...\n",
      "[nltk_data]   Package stopwords is already up-to-date!\n",
      "[nltk_data] Downloading package wordnet to\n",
      "[nltk_data]     C:\\Users\\Hisham\\AppData\\Roaming\\nltk_data...\n",
      "[nltk_data]   Package wordnet is already up-to-date!\n"
     ]
    },
    {
     "data": {
      "text/plain": [
       "True"
      ]
     },
     "execution_count": 2,
     "metadata": {},
     "output_type": "execute_result"
    }
   ],
   "source": [
    "nltk.download('stopwords')\n",
    "nltk.download('wordnet')"
   ]
  },
  {
   "cell_type": "markdown",
   "id": "40558d3c",
   "metadata": {},
   "source": [
    "# Listing folders:"
   ]
  },
  {
   "cell_type": "code",
   "execution_count": 4,
   "id": "06bd9734",
   "metadata": {},
   "outputs": [
    {
     "data": {
      "text/plain": [
       "['alt.atheism',\n",
       " 'comp.graphics',\n",
       " 'comp.os.ms-windows.misc',\n",
       " 'comp.sys.ibm.pc.hardware',\n",
       " 'comp.sys.mac.hardware',\n",
       " 'comp.windows.x',\n",
       " 'misc.forsale',\n",
       " 'rec.autos',\n",
       " 'rec.motorcycles',\n",
       " 'rec.sport.baseball',\n",
       " 'rec.sport.hockey',\n",
       " 'sci.crypt',\n",
       " 'sci.electronics',\n",
       " 'sci.med',\n",
       " 'sci.space',\n",
       " 'soc.religion.christian',\n",
       " 'talk.politics.guns',\n",
       " 'talk.politics.mideast',\n",
       " 'talk.politics.misc',\n",
       " 'talk.religion.misc']"
      ]
     },
     "execution_count": 4,
     "metadata": {},
     "output_type": "execute_result"
    }
   ],
   "source": [
    "DATA_DIR= os.getcwd() + \"\\\\20_newsgroups\"\n",
    "folders=os.listdir(DATA_DIR)\n",
    "folders"
   ]
  },
  {
   "cell_type": "markdown",
   "id": "de955516",
   "metadata": {},
   "source": [
    "# Reading Files:\n"
   ]
  },
  {
   "cell_type": "code",
   "execution_count": 5,
   "id": "e45974a8",
   "metadata": {},
   "outputs": [
    {
     "data": {
      "text/plain": [
       "1000"
      ]
     },
     "execution_count": 5,
     "metadata": {},
     "output_type": "execute_result"
    }
   ],
   "source": [
    "data={}\n",
    "for folder in folders:\n",
    "    data[folder]=[]\n",
    "    for file in os.listdir(os.path.join(DATA_DIR,folder)):\n",
    "        with open(os.path.join(DATA_DIR,folder,file),encoding='latin-1') as opened_file:\n",
    "            doc = opened_file.read()\n",
    "            data[folder].append(doc)\n",
    "len(data[folders[0]])"
   ]
  },
  {
   "cell_type": "markdown",
   "id": "b1b2609d",
   "metadata": {},
   "source": [
    "# Text Preprocessing:"
   ]
  },
  {
   "cell_type": "code",
   "execution_count": 9,
   "id": "e752346a",
   "metadata": {},
   "outputs": [
    {
     "name": "stdout",
     "output_type": "stream",
     "text": [
      "19997\n",
      "19997\n"
     ]
    }
   ],
   "source": [
    "punctuations=list(punctuation)\n",
    "stopWords=stopwords.words('english')\n",
    "stopWords+=punctuations\n",
    "stopWords+=['subject:','from:', 'date:', 'newsgroups:', 'message-id:', 'lines:', 'path:', 'organization:'\n",
    "            , 'writes:', 'references:', 'article', 'sender:', 'nntp-posting-host:', \n",
    "            'university', 'xref:', 'cantaloupe.srv.cs.cmu.edu', 'distribution:'\n",
    "            ]\n",
    "st = PorterStemmer()\n",
    "files = []\n",
    "fldrs = []\n",
    "for i in range(len(data)): \n",
    "    for doc in data[folders[i]]:\n",
    "        for word in doc.split():\n",
    "            word = word.lower()\n",
    "            if word not in stopWords and len(word) >= 5:\n",
    "                word = st.stem(word)\n",
    "                word = Word(word).lemmatize()\n",
    "            else:\n",
    "                word = \"\"\n",
    "        files.append(doc)\n",
    "        fldrs.append(folders[i])\n",
    "print(len(files))\n",
    "print(len(fldrs))"
   ]
  },
  {
   "cell_type": "markdown",
   "id": "3c7a8587",
   "metadata": {},
   "source": [
    "# Data Prepration:"
   ]
  },
  {
   "cell_type": "code",
   "execution_count": 22,
   "id": "3bf3e342",
   "metadata": {},
   "outputs": [
    {
     "data": {
      "text/plain": [
       "array([0.01513623, 0.01620167, 0.01926637, ..., 0.01781425, 0.05356905,\n",
       "       0.03185324])"
      ]
     },
     "execution_count": 22,
     "metadata": {},
     "output_type": "execute_result"
    }
   ],
   "source": [
    "train_x, test_x, train_y, test_y = model_selection.train_test_split(files, fldrs)\n",
    "\n",
    "#using LabelEncoder just to use numbers on the heat map instead of strings as strings overlap in the heat map\n",
    "#sklearn already uses label encoding for all its classifiers as far as I know\n",
    "encoder = preprocessing.LabelEncoder()\n",
    "train_y = encoder.fit_transform(train_y)\n",
    "test_y = encoder.fit_transform(test_y)\n",
    "\n",
    "vectorizer = TfidfVectorizer(analyzer='word',token_pattern=r'\\w{1,}', max_features=10000)\n",
    "vectorizer.fit(files)\n",
    "xtrain_tfidf =  vectorizer.transform(train_x)\n",
    "xtest_tfidf =  vectorizer.transform(test_x)\n",
    "\n",
    "xtrain_tfidf.data"
   ]
  },
  {
   "cell_type": "markdown",
   "id": "b5b5100d",
   "metadata": {},
   "source": [
    "# Model Training:"
   ]
  },
  {
   "cell_type": "code",
   "execution_count": 23,
   "id": "45297161",
   "metadata": {},
   "outputs": [],
   "source": [
    "def train_model(classifier, feature_vector_train, label, feature_vector_test, is_neural_net=False):\n",
    "    # fit the training dataset on the classifier\n",
    "    classifier.fit(feature_vector_train, label)\n",
    "    # predict the labels on validation dataset\n",
    "    predictions = classifier.predict(feature_vector_test)\n",
    "    print(metrics.classification_report(test_y, predictions))\n",
    "    \n",
    "    #confusion matrix\n",
    "    cf_matrix = confusion_matrix(test_y, predictions)\n",
    "    print(cf_matrix)\n",
    "    \n",
    "    #visualization\n",
    "    plt.figure(figsize = (10,10))\n",
    "    sns.set(font_scale=0.5)\n",
    "    ax = sns.heatmap(cf_matrix, annot=True, cmap=\"Blues\")\n",
    "    \n",
    "    ax.set_title('Seaborn Confusion Matrix with labels\\n\\n')\n",
    "    ax.set_xlabel('\\nPredicted Values')\n",
    "    ax.set_ylabel('Actual Values ')\n",
    "    plt.show()\n",
    "    \n",
    "    return metrics.accuracy_score(predictions, test_y)"
   ]
  },
  {
   "cell_type": "code",
   "execution_count": 24,
   "id": "1a10062b",
   "metadata": {},
   "outputs": [
    {
     "name": "stdout",
     "output_type": "stream",
     "text": [
      "              precision    recall  f1-score   support\n",
      "\n",
      "           0       0.80      0.81      0.80       231\n",
      "           1       0.79      0.83      0.81       259\n",
      "           2       0.81      0.94      0.87       214\n",
      "           3       0.81      0.80      0.81       246\n",
      "           4       0.89      0.89      0.89       250\n",
      "           5       0.92      0.89      0.91       252\n",
      "           6       0.86      0.89      0.88       244\n",
      "           7       0.92      0.91      0.91       244\n",
      "           8       0.94      0.97      0.95       263\n",
      "           9       0.97      0.97      0.97       248\n",
      "          10       0.96      0.97      0.96       265\n",
      "          11       0.96      0.94      0.95       230\n",
      "          12       0.91      0.83      0.87       274\n",
      "          13       0.96      0.90      0.93       255\n",
      "          14       0.91      0.93      0.92       255\n",
      "          15       0.93      1.00      0.97       250\n",
      "          16       0.88      0.92      0.90       249\n",
      "          17       0.93      0.97      0.95       263\n",
      "          18       0.80      0.81      0.80       255\n",
      "          19       0.73      0.55      0.62       253\n",
      "\n",
      "    accuracy                           0.89      5000\n",
      "   macro avg       0.88      0.89      0.88      5000\n",
      "weighted avg       0.88      0.89      0.88      5000\n",
      "\n",
      "[[187   0   0   0   0   0   0   0   1   0   0   1   0   1   0   1   1   0\n",
      "    1  38]\n",
      " [  0 216   7   8   2  13   0   1   0   1   1   0   2   3   5   0   0   0\n",
      "    0   0]\n",
      " [  0   4 201   6   1   1   0   0   0   0   0   0   0   1   0   0   0   0\n",
      "    0   0]\n",
      " [  0  10  17 198  12   1   5   0   0   0   0   0   3   0   0   0   0   0\n",
      "    0   0]\n",
      " [  0   5   1  11 223   2   5   0   0   1   0   0   2   0   0   0   0   0\n",
      "    0   0]\n",
      " [  0  13   9   3   0 224   1   0   0   0   0   0   2   0   0   0   0   0\n",
      "    0   0]\n",
      " [  0   0   2   8   2   0 217   5   2   1   1   0   2   0   2   0   1   0\n",
      "    1   0]\n",
      " [  0   1   1   1   2   0   8 222   3   0   1   0   4   0   1   0   0   0\n",
      "    0   0]\n",
      " [  0   1   0   1   1   0   3   3 254   0   0   0   0   0   0   0   0   0\n",
      "    0   0]\n",
      " [  0   0   0   0   0   0   0   0   1 241   5   0   0   1   0   0   0   0\n",
      "    0   0]\n",
      " [  0   0   0   0   0   0   2   0   3   3 256   0   0   0   0   0   0   0\n",
      "    1   0]\n",
      " [  0   4   3   0   1   0   1   1   0   0   0 217   2   0   0   0   1   0\n",
      "    0   0]\n",
      " [  0   7   3   7   4   0   6   9   2   0   2   0 227   1   6   0   0   0\n",
      "    0   0]\n",
      " [  0   6   1   0   1   0   1   1   2   2   1   1   5 229   4   0   0   0\n",
      "    1   0]\n",
      " [  1   6   2   0   1   1   1   0   1   0   0   1   1   3 236   0   1   0\n",
      "    0   0]\n",
      " [  0   0   0   0   0   0   0   0   0   0   0   0   0   0   0 250   0   0\n",
      "    0   0]\n",
      " [  0   0   1   0   0   0   0   0   2   0   0   5   0   0   0   0 229   0\n",
      "    8   4]\n",
      " [  0   0   1   0   0   0   0   0   0   0   0   0   0   0   0   0   0 256\n",
      "    6   0]\n",
      " [  0   0   0   0   0   0   2   0   0   0   1   1   0   0   4   0  14  17\n",
      "  206  10]\n",
      " [ 47   0   0   0   0   1   0   0   0   0   0   0   0   0   0  17  14   1\n",
      "   35 138]]\n"
     ]
    },
    {
     "data": {
      "image/png": "[encoded data removed]",
      "text/plain": [
       "<Figure size 720x720 with 2 Axes>"
      ]
     },
     "metadata": {},
     "output_type": "display_data"
    },
    {
     "name": "stdout",
     "output_type": "stream",
     "text": [
      "Accuracy:  0.8854\n"
     ]
    }
   ],
   "source": [
    "# Naive Bayes trainig\n",
    "accuracy = train_model(naive_bayes.MultinomialNB(alpha=0.2), xtrain_tfidf, train_y, xtest_tfidf)\n",
    "print (\"Accuracy: \", accuracy)\n"
   ]
  },
  {
   "cell_type": "code",
   "execution_count": 25,
   "id": "297362eb",
   "metadata": {},
   "outputs": [
    {
     "name": "stdout",
     "output_type": "stream",
     "text": [
      "              precision    recall  f1-score   support\n",
      "\n",
      "           0       0.85      0.81      0.82       231\n",
      "           1       0.93      0.94      0.94       259\n",
      "           2       0.91      0.97      0.94       214\n",
      "           3       0.94      0.97      0.96       246\n",
      "           4       0.98      0.97      0.98       250\n",
      "           5       0.96      0.94      0.95       252\n",
      "           6       0.96      0.98      0.97       244\n",
      "           7       0.98      0.98      0.98       244\n",
      "           8       1.00      0.98      0.99       263\n",
      "           9       1.00      0.99      0.99       248\n",
      "          10       0.99      0.99      0.99       265\n",
      "          11       0.98      0.97      0.97       230\n",
      "          12       0.97      0.97      0.97       274\n",
      "          13       0.98      0.98      0.98       255\n",
      "          14       0.99      0.96      0.98       255\n",
      "          15       0.99      0.99      0.99       250\n",
      "          16       0.93      0.93      0.93       249\n",
      "          17       0.94      0.97      0.95       263\n",
      "          18       0.80      0.83      0.81       255\n",
      "          19       0.73      0.70      0.71       253\n",
      "\n",
      "    accuracy                           0.94      5000\n",
      "   macro avg       0.94      0.94      0.94      5000\n",
      "weighted avg       0.94      0.94      0.94      5000\n",
      "\n",
      "[[186   0   0   0   1   0   0   0   0   0   0   1   0   0   0   0   0   1\n",
      "    0  42]\n",
      " [  0 244   3   2   0   7   0   0   0   0   0   0   0   2   1   0   0   0\n",
      "    0   0]\n",
      " [  0   3 207   2   1   0   0   0   0   0   0   0   1   0   0   0   0   0\n",
      "    0   0]\n",
      " [  0   1   2 238   1   1   1   0   0   0   0   0   2   0   0   0   0   0\n",
      "    0   0]\n",
      " [  0   1   1   5 243   0   0   0   0   0   0   0   0   0   0   0   0   0\n",
      "    0   0]\n",
      " [  0   4   7   1   1 238   0   0   0   0   0   0   0   0   0   0   0   1\n",
      "    0   0]\n",
      " [  0   0   0   1   0   0 238   1   0   0   0   0   2   0   0   0   1   0\n",
      "    1   0]\n",
      " [  0   1   0   0   0   0   2 238   0   0   0   0   3   0   0   0   0   0\n",
      "    0   0]\n",
      " [  0   1   1   0   0   0   2   1 257   0   0   0   0   0   0   1   0   0\n",
      "    0   0]\n",
      " [  0   0   0   0   0   0   0   0   0 246   2   0   0   0   0   0   0   0\n",
      "    0   0]\n",
      " [  0   0   0   0   0   0   0   0   0   1 263   0   0   0   0   0   0   0\n",
      "    1   0]\n",
      " [  0   1   3   0   0   0   2   1   0   0   0 222   0   0   0   0   1   0\n",
      "    0   0]\n",
      " [  0   1   0   2   0   0   3   2   0   0   0   0 266   0   0   0   0   0\n",
      "    0   0]\n",
      " [  0   1   0   1   0   1   0   0   0   0   0   0   1 251   0   0   0   0\n",
      "    0   0]\n",
      " [  1   3   1   0   0   0   0   0   0   0   1   1   0   2 245   0   0   0\n",
      "    1   0]\n",
      " [  1   0   0   0   0   0   0   0   0   0   0   0   0   0   0 247   0   0\n",
      "    0   2]\n",
      " [  0   0   1   0   0   0   0   0   0   0   0   2   0   0   0   0 232   0\n",
      "    8   6]\n",
      " [  0   0   1   0   0   0   0   0   0   0   0   0   0   0   0   0   0 255\n",
      "    7   0]\n",
      " [  0   0   0   0   0   0   1   0   0   0   1   0   0   0   1   0   9  14\n",
      "  212  17]\n",
      " [ 32   0   0   0   0   0   0   0   0   0   0   0   0   0   0   1   6   1\n",
      "   36 177]]\n"
     ]
    },
    {
     "data": {
      "image/png": "[encoded data removed]",
      "text/plain": [
       "<Figure size 720x720 with 2 Axes>"
      ]
     },
     "metadata": {},
     "output_type": "display_data"
    },
    {
     "name": "stdout",
     "output_type": "stream",
     "text": [
      "Accuracy:  0.941\n"
     ]
    }
   ],
   "source": [
    "# Linear Classifier on Word Level TF IDF Vectors\n",
    "accuracy = train_model(linear_model.LogisticRegression(max_iter = 200), xtrain_tfidf, train_y, xtest_tfidf)\n",
    "print (\"Accuracy: \", accuracy)\n"
   ]
  },
  {
   "cell_type": "code",
   "execution_count": null,
   "id": "d01afc92",
   "metadata": {},
   "outputs": [],
   "source": []
  }
 ],
 "metadata": {
  "kernelspec": {
   "display_name": "Python 3",
   "language": "python",
   "name": "python3"
  },
  "language_info": {
   "codemirror_mode": {
    "name": "ipython",
    "version": 3
   },
   "file_extension": ".py",
   "mimetype": "text/x-python",
   "name": "python",
   "nbconvert_exporter": "python",
   "pygments_lexer": "ipython3",
   "version": "3.8.8"
  }
 },
 "nbformat": 4,
 "nbformat_minor": 5
}
